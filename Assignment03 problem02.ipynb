{
 "cells": [
  {
   "cell_type": "code",
   "execution_count": 12,
   "id": "678d900d",
   "metadata": {},
   "outputs": [
    {
     "name": "stdout",
     "output_type": "stream",
     "text": [
      "Enter the string: 1234abcd\n",
      "output is:  dcba4321\n"
     ]
    }
   ],
   "source": [
    "# Write a Python program to reverse a string.\n",
    "\n",
    "# Sample String : \"1234abcd\"\n",
    "\n",
    "# Expected Output : \"dcba4321\"\n",
    "# answer:\n",
    "\n",
    "def rev(kk):\n",
    "    for i in kk:\n",
    "        return kk[::-1]\n",
    "n= input(\"Enter the string: \")\n",
    "x= rev(n)\n",
    "print(\"output is: \",x)"
   ]
  }
 ],
 "metadata": {
  "kernelspec": {
   "display_name": "Python 3 (ipykernel)",
   "language": "python",
   "name": "python3"
  },
  "language_info": {
   "codemirror_mode": {
    "name": "ipython",
    "version": 3
   },
   "file_extension": ".py",
   "mimetype": "text/x-python",
   "name": "python",
   "nbconvert_exporter": "python",
   "pygments_lexer": "ipython3",
   "version": "3.9.12"
  }
 },
 "nbformat": 4,
 "nbformat_minor": 5
}
